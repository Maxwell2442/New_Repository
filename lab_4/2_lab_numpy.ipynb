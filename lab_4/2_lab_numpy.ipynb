{
 "cells": [
  {
   "cell_type": "markdown",
   "metadata": {},
   "source": [
    "# Структуровані масиви даних"
   ]
  },
  {
   "cell_type": "code",
   "execution_count": 1,
   "metadata": {},
   "outputs": [],
   "source": [
    "def homework(message):\n",
    "    print(\"\\n>>>>>\", message, \"\\n\")"
   ]
  },
  {
   "cell_type": "markdown",
   "metadata": {},
   "source": [
    "# Визначення однорідного масиву"
   ]
  },
  {
   "cell_type": "code",
   "execution_count": 2,
   "metadata": {},
   "outputs": [
    {
     "name": "stdout",
     "output_type": "stream",
     "text": [
      "Отриманий масив має вигляд:\n",
      "array([[ 3,  8,  9],\n",
      "       [ 1, -7,  0],\n",
      "       [ 4, 12,  4]], dtype=int8)\n",
      "Отриманий масив має вигляд:\n",
      "array([[ 3.4,  8.7,  9.9],\n",
      "       [ 1.1, -7.8, -0.7],\n",
      "       [ 4.1, 12.3,  4.8]], dtype=float16)\n",
      "\n",
      ">>>>> Згадуючи ООП, що робить функція repr? \n",
      "\n",
      "\n",
      ">>>>> У чому різниця між масивами A i B? \n",
      "\n"
     ]
    }
   ],
   "source": [
    "import numpy as np\n",
    "lst = [ [3.4, 8.7, 9.9], \n",
    "        [1.1, -7.8, -0.7],\n",
    "        [4.1, 12.3, 4.8] ]\n",
    "\n",
    "A = np.array(lst, dtype=np.int8)\n",
    "print(f\"Отриманий масив має вигляд:\\n{repr(A)}\")\n",
    "B = np.array(lst, dtype=np.float16)\n",
    "print(f\"Отриманий масив має вигляд:\\n{repr(B)}\")\n",
    "\n",
    "homework(\"Згадуючи ООП, що робить функція repr?\")\n",
    "homework(\"У чому різниця між масивами A i B?\")"
   ]
  },
  {
   "cell_type": "markdown",
   "metadata": {},
   "source": [
    "# Задаємо свій тип даних\n",
    "> можливо створити свій набір даних задавши назву та типи полів. Кожне поле повинне бути заданим як tuple який містить імя та тип (числовий, символьний, тд.)."
   ]
  },
  {
   "cell_type": "code",
   "execution_count": 3,
   "metadata": {},
   "outputs": [
    {
     "name": "stdout",
     "output_type": "stream",
     "text": [
      "Отриманий масив має вигляд:\n",
      "[('Bohdan', 4, 'КН-42') ('Marta', 5, 'КН-42') ('Noname', 0, 'КН-41')\n",
      " ('Максим', 5, 'КН-41')]\n",
      "Доступитись до певної колонки тепер можна за її іменем: [4 5 0 5]\n",
      "\n",
      ">>>>> Як вивести всі імена присутні в даному масиві? \n",
      "\n",
      "Всі імена в даному масиві:\n",
      "['Bohdan' 'Marta' 'Noname' 'Максим']\n"
     ]
    }
   ],
   "source": [
    "dt = np.dtype([('name', np.compat.unicode, 20), ('mark', np.int8), ('group', np.compat.unicode, 10)])\n",
    "arr = [\n",
    "    (\"Bohdan\", 4, \"КН-42\"), \n",
    "    (\"Marta\", 5, \"КН-42\"),\n",
    "    (\"Noname\", 0, \"КН-41\")\n",
    "    ]\n",
    "C = np.array(arr, dtype=dt)\n",
    "\n",
    "new_entry = (\"Максим\", 5, \"КН-41\")\n",
    "C = np.append(C, np.array([new_entry], dtype=dt))\n",
    "\n",
    "print(f\"Отриманий масив має вигляд:\\n{C}\")\n",
    "print(f\"Доступитись до певної колонки тепер можна за її іменем: {C['mark']}\")\n",
    "\n",
    "homework(\"Як вивести всі імена присутні в даному масиві?\")\n",
    "print(f\"Всі імена в даному масиві:\\n{C['name']}\")"
   ]
  },
  {
   "cell_type": "markdown",
   "metadata": {},
   "source": [
    "# Запис та зчитування з файлу, формат CSV\n",
    "> `savez` та `load` найпростіші функції для збереження даних NPZ формат;\n",
    "> CSV - формат, де значення відділені комою. Деколи цей формат дуже подібний до комірок Excel;\n",
    "> `savetxt` - метод дозволяє збуурегти масив у файл; \n",
    "> `genfromtxt` - метод вичитує дані з файлі;"
   ]
  },
  {
   "cell_type": "code",
   "execution_count": 5,
   "metadata": {},
   "outputs": [
    {
     "name": "stdout",
     "output_type": "stream",
     "text": [
      "Вихідний масив:  [('Bohdan', 4, 'КН-42') ('Marta', 5, 'КН-42') ('Noname', 0, 'КН-41')\n",
      " ('Максим', 5, 'КН-41')]\n",
      "Прочитаний з файлу:  [('Bohdan', 4, 'КН-42') ('Marta', 5, 'КН-42') ('Noname', 0, 'КН-41')\n",
      " ('Максим', 5, 'КН-41')]\n",
      "Записуємо у CSV файл temp.csv значення: [('Bohdan', 4, 'КН-42') ('Marta', 5, 'КН-42') ('Noname', 0, 'КН-41')\n",
      " ('Максим', 5, 'КН-41')]\n",
      "Перевіряємо чи файл temp.csv створився: ['2_lab_numpy.ipynb', 'my_mass.npz', 'README.md', 'temp.csv']\n",
      "Читаємо файл за допомогою оператора with та методу readlines\n",
      "Прочитаний файл:\n",
      " ['# name,mark,group\\n', 'Bohdan,4,КН-42\\n', 'Marta,5,КН-42\\n', 'Noname,0,КН-41\\n', 'Максим,5,КН-41\\n'] \n",
      "- як бачимо - 5 елементи є стрічками <class 'str'>.\n",
      "Зчитане значення з файла:\n",
      " [('Bohdan', 4, 'КН-42') ('Marta', 5, 'КН-42') ('Noname', 0, 'КН-41')\n",
      " ('Максим', 5, 'КН-41')], як бачимо - 4 елементи це <class 'numpy.void'> \n",
      "- вбудований клас бібліотеки numpy.\n",
      "Доступитись до певного елемента можна наступним чином, наприклад імя першого елементу: Bohdan\n",
      "\n",
      ">>>>> Створіть додаткове поле group - яке буде вказувавти групу. \n",
      "Допишіть Ваше імя, оцінку та групу до масиву. \n",
      "Збережіть та вичитайте дані у файл.\n",
      "Прочитайте саме Ваше імя з масиву. \n",
      "\n"
     ]
    }
   ],
   "source": [
    "print(\"Вихідний масив: \", C)\n",
    "np.savez(\"my_mass.npz\", my_mass=C)\n",
    "D = np.load(\"my_mass.npz\")\n",
    "print(\"Прочитаний з файлу: \", D[\"my_mass\"])\n",
    "\n",
    "filename = \"temp.csv\"\n",
    "print(f\"Записуємо у CSV файл {filename} значення: {C}\")\n",
    "np.savetxt(filename, C, fmt=\"%s,%d,%s\", header=\"name,mark,group\", delimiter=\",\")\n",
    "\n",
    "import os\n",
    "print(f\"Перевіряємо чи файл {filename} створився: {os.listdir()}\")\n",
    "\n",
    "print(\"Читаємо файл за допомогою оператора with та методу readlines\")\n",
    "with open(filename) as f:\n",
    "    D = f.readlines()\n",
    "\n",
    "print(f\"Прочитаний файл:\\n {D} \\n- як бачимо - {len(D)} елементи є стрічками {type(D[0])}.\")\n",
    "\n",
    "D = np.genfromtxt(filename, dtype=dt, delimiter=\",\")\n",
    "print(f\"Зчитане значення з файла:\\n {D}, як бачимо - {D.size} елементи це {type(D[0])} \\n- вбудований клас бібліотеки numpy.\")\n",
    "print(f\"Доступитись до певного елемента можна наступним чином, наприклад імя першого елементу: {D[0]['name']}\")\n",
    "\n",
    "homework(\"\"\"Створіть додаткове поле group - яке буде вказувавти групу. \n",
    "Допишіть Ваше імя, оцінку та групу до масиву. \n",
    "Збережіть та вичитайте дані у файл.\n",
    "Прочитайте саме Ваше імя з масиву.\"\"\")"
   ]
  }
 ],
 "metadata": {
  "kernelspec": {
   "display_name": "Python 3",
   "language": "python",
   "name": "python3"
  },
  "language_info": {
   "codemirror_mode": {
    "name": "ipython",
    "version": 3
   },
   "file_extension": ".py",
   "mimetype": "text/x-python",
   "name": "python",
   "nbconvert_exporter": "python",
   "pygments_lexer": "ipython3",
   "version": "3.12.1"
  }
 },
 "nbformat": 4,
 "nbformat_minor": 2
}
