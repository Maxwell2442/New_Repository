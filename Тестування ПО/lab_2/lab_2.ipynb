{
 "cells": [
  {
   "cell_type": "code",
   "execution_count": null,
   "metadata": {},
   "outputs": [],
   "source": [
    "def say_hello(message=\"Hello World\"):\n",
    "    \"\"\"Static method\n",
    "    \"\"\"\n",
    "    return f\"You say: {message}\"\n",
    "\n",
    "say_hello()"
   ]
  },
  {
   "cell_type": "code",
   "execution_count": 2,
   "metadata": {},
   "outputs": [
    {
     "name": "stdout",
     "output_type": "stream",
     "text": [
      "This is <class 'method'>: length of my name is 6\n"
     ]
    }
   ],
   "source": [
    "class MyName:\n",
    "    def __init__(self, name=None) -> None:\n",
    "        self.name = name if name is not None else self.anonymous_user().name\n",
    "\n",
    "    def name_length(self) -> int:\n",
    "        return len(self.name)\n",
    "    \n",
    "myName = MyName(\"Maksym\")\n",
    "print(f\"This is {type(myName.name_length)}: length of my name is {myName.name_length()}\")"
   ]
  }
 ],
 "metadata": {
  "kernelspec": {
   "display_name": ".venv",
   "language": "python",
   "name": "python3"
  },
  "language_info": {
   "codemirror_mode": {
    "name": "ipython",
    "version": 3
   },
   "file_extension": ".py",
   "mimetype": "text/x-python",
   "name": "python",
   "nbconvert_exporter": "python",
   "pygments_lexer": "ipython3",
   "version": "3.12.3"
  }
 },
 "nbformat": 4,
 "nbformat_minor": 2
}
