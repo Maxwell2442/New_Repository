{
 "cells": [
  {
   "cell_type": "code",
   "execution_count": 27,
   "metadata": {},
   "outputs": [
    {
     "name": "stdout",
     "output_type": "stream",
     "text": [
      "/Users/schma\n"
     ]
    }
   ],
   "source": [
    "import os\n",
    "print(os.environ.get('HELLO', '/Users/schma'))"
   ]
  }
 ],
 "metadata": {
  "kernelspec": {
   "display_name": "schma-3CsHd5RE",
   "language": "python",
   "name": "python3"
  },
  "language_info": {
   "codemirror_mode": {
    "name": "ipython",
    "version": 3
   },
   "file_extension": ".py",
   "mimetype": "text/x-python",
   "name": "python",
   "nbconvert_exporter": "python",
   "pygments_lexer": "ipython3",
   "version": "3.12.3"
  }
 },
 "nbformat": 4,
 "nbformat_minor": 2
}
